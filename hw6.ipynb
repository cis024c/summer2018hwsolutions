{
 "cells": [
  {
   "cell_type": "markdown",
   "metadata": {},
   "source": [
    "\n",
    "# CIS024C - Summer 2018\n",
    "\n",
    "## Homework 6\n",
    "\n",
    "Homework 6 covers exercises that involve working with files\n",
    "\n",
    "The below sites have some interesting and useful information on working with files\n",
    "\n",
    "http://www.pythonforbeginners.com/files/reading-and-writing-files-in-python\n",
    "\n",
    "You will need to download this notebook and use this as a starting point for your homework. You will just need to fill in the content of each code-block (cell) and execute. Once you have completed all the exercises, you will need to save and upload this to your github repository.\n",
    "\n",
    "Note also the exercises build on top of one another so you might be able to do the next exercise if you have not completed the previous exercise.\n",
    "\n",
    "Post any questions you have on our Slack at **cis-024c1.slack.com**\n",
    "\n",
    "https://github.com/cis024c/fall2017classwork/blob/master/week5/working_with_files.ipynb\n",
    "\n",
    "** Slides ** for Week 5 can be found at \n",
    "\n",
    "https://docs.google.com/presentation/d/16cRqqIoZl15gX5QC2oEvS8NuUiPrhzOyC5UerGpuWOM/edit?usp=sharing\n",
    "\n",
    "**Please refer back to hw1 and slack for instructions on how to setup your computer for developing using Python.**"
   ]
  },
  {
   "cell_type": "markdown",
   "metadata": {},
   "source": [
    "### Helpful Jupyter Commands\n",
    "\n",
    "Below are some useful commands to know when using Jupyter\n",
    "\n",
    "1. You can add a new cell by clicking on the \"+\" icon on top.\n",
    "2. You can delete a cell by selecting that cell and clicking on the \"scissors\" icon on top.\n",
    "3. You can execute a cell by either pressing shift+enter or selecting the \"play\" button on top.\n",
    "4. You can create a new file in Jupyter via the File menu->New Notebook option. Make sure to select Python 2 when creating your notebook.\n",
    "5. Also, for your code blocks make sure that Code is selected instead of another option like Markdown.\n",
    "6. Use the Enter key to go to the next line in a cell to enter the next statement.\n",
    "7. You can clear results by clicking on the Cell menu item and selecting Current Output->Clear or All Output->Clear depending on whether you are trying to just clear the output for one cell or for all cells.\n",
    "8. In case your program has crashed for some reason (infinite loop, for example), you can restart your Python session by select Kernel in the menu and selecting Restart.\n"
   ]
  },
  {
   "cell_type": "markdown",
   "metadata": {},
   "source": [
    "#### Check Python Version"
   ]
  },
  {
   "cell_type": "code",
   "execution_count": 10,
   "metadata": {},
   "outputs": [
    {
     "name": "stdout",
     "output_type": "stream",
     "text": [
      "Python 3.6.5 :: Anaconda, Inc.\r\n"
     ]
    }
   ],
   "source": [
    "!python --version"
   ]
  },
  {
   "cell_type": "markdown",
   "metadata": {},
   "source": [
    "#### Sample Exercises with conditionals and repetitions\n",
    "\n",
    "Refer to Week 5 classwork for sample exercises - \n",
    "\n",
    "https://github.com/cis024c/fall2017classwork/tree/master/week5"
   ]
  },
  {
   "cell_type": "markdown",
   "metadata": {},
   "source": [
    "**Exercise 1 - Testing your knowledge of files **\n",
    "\n",
    "Answer the below questions\n",
    "\n",
    "1. In your own words, describe what a **file** is?\n",
    "2. Why is it important to close a file after we are done using it?"
   ]
  },
  {
   "cell_type": "markdown",
   "metadata": {},
   "source": [
    "A **file** is information or data that resides on a storage medium such as a disk. It can be addressed by name. Files typically have extensions that denote the type of data that the file contains, for example, a file with a .txt extension (as in file.txt), will likely contain textual data.\n",
    "\n",
    "It is important to **close a file** after we are done using it because the operating system only has the capacity for a limited number of open files at any given time. If file handles are not closed then it is likely that some other application might be unable to open a file if the maximum number of files handles limit is reached"
   ]
  },
  {
   "cell_type": "markdown",
   "metadata": {},
   "source": [
    "#### Exercise 2 -  Write to a file\n",
    "\n",
    "Write a python program to write the below lines to a file\n",
    "\n",
    "- Name, Age, Gender, Profession\n",
    "- Harry, 23, Male, Software Engineer\n",
    "- Sam, 25, Male, Lawyer\n",
    "- Lisa, 29, Female, Computer Scientist\n",
    "- Mary, 22, Female, Doctor\n",
    "\n",
    "Below are a set of recommended steps to accomplish this\n",
    "1. open a file in write mode. This will return a handle to the file\n",
    "2. use the write method to write each line to the file using the file handle returned in the open call\n",
    "3. close the file when done\n",
    "\n",
    "Once done, go to the folder where the file is and open it to make sure that this is written.\n",
    "\n",
    "Refer to class exercises especially \"In [22]\" in https://github.com/cis024c/fall2017classwork/blob/master/week5/working_with_files.ipynb"
   ]
  },
  {
   "cell_type": "code",
   "execution_count": 11,
   "metadata": {},
   "outputs": [],
   "source": [
    "### YOUR CODE GOES \n",
    "\n",
    "# open the file\n",
    "myFile = open('userInfo.txt','w')\n",
    "\n",
    "# write the data\n",
    "myFile.write(\"Name, Age, Gender, Profession\\n\")\n",
    "myFile.write(\"Harry, 23, Male, Software Engineer\\n\")\n",
    "myFile.write(\"Sam, 25, Male, Lawyer\\n\")\n",
    "myFile.write(\"Lisa, 29, Female, Computer Scientist\\n\")\n",
    "myFile.write(\"Mary, 22, Female, Doctor\\n\")\n",
    "\n",
    "myFile.close()\n",
    "\n",
    "### END CODE"
   ]
  },
  {
   "cell_type": "code",
   "execution_count": 12,
   "metadata": {},
   "outputs": [
    {
     "name": "stdout",
     "output_type": "stream",
     "text": [
      "Name, Age, Gender, Profession\r\n",
      "Harry, 23, Male, Software Engineer\r\n",
      "Sam, 25, Male, Lawyer\r\n",
      "Lisa, 29, Female, Computer Scientist\r\n",
      "Mary, 22, Female, Doctor\r\n"
     ]
    }
   ],
   "source": [
    "!cat userInfo.txt"
   ]
  },
  {
   "cell_type": "markdown",
   "metadata": {},
   "source": [
    "#### Exercise 3 - Reading from a file\n",
    "\n",
    "Read and display the data from the file you had just written to.\n",
    "\n",
    "Below are a set of recommended steps to accomplish this\n",
    "1. open the file in read mode. This will return a handle to the file.\n",
    "2. You can now iterate through each line in the file  and then use readline to read each line.\n",
    "3. Display each line as you read it in\n",
    "\n",
    "Note that you can also use the **read** method to read in all lines or the **readlines** method to read all lines into a list."
   ]
  },
  {
   "cell_type": "code",
   "execution_count": 13,
   "metadata": {},
   "outputs": [
    {
     "name": "stdout",
     "output_type": "stream",
     "text": [
      "Name, Age, Gender, Profession\n",
      "Harry, 23, Male, Software Engineer\n",
      "Sam, 25, Male, Lawyer\n",
      "Lisa, 29, Female, Computer Scientist\n",
      "Mary, 22, Female, Doctor\n"
     ]
    }
   ],
   "source": [
    "### YOUR CODE GOES BELOW\n",
    "\n",
    "# open file\n",
    "myFile = open('userInfo.txt')\n",
    "\n",
    "# read and print lines\n",
    "for line in myFile:\n",
    "    print(line.strip()) # strip removes the newline character at the end of each line\n",
    "\n",
    "myFile.close()\n",
    "\n",
    "### END CODE"
   ]
  },
  {
   "cell_type": "markdown",
   "metadata": {},
   "source": [
    "#### Exercise 4 - Finding the average age of users in a file\n",
    "\n",
    "Write a python program to find the average age of users in the file you just created.\n",
    "\n",
    "Below are a set of recommended steps to accomplish this\n",
    "1. Open the file in read mode\n",
    "2. Read in each line of the file\n",
    "3. Split each line in the file to get the age\n",
    "4. Find the average age and display it"
   ]
  },
  {
   "cell_type": "code",
   "execution_count": 14,
   "metadata": {},
   "outputs": [
    {
     "name": "stdout",
     "output_type": "stream",
     "text": [
      "Average Age: 24.75\n"
     ]
    }
   ],
   "source": [
    "### YOUR CODE GOES BELOW\n",
    "\n",
    "# open file\n",
    "myFile = open(\"userInfo.txt\")\n",
    "\n",
    "# get the total age from the file\n",
    "totalAge = 0\n",
    "count = 0\n",
    "\n",
    "# skip the first line\n",
    "line = myFile.readline()\n",
    "\n",
    "for line in myFile:\n",
    "    fields = line.split(',')\n",
    "    age = int(fields[1])\n",
    "    \n",
    "    totalAge += age\n",
    "    count += 1\n",
    "    \n",
    "# compute and display the average age\n",
    "averageAge = totalAge/count\n",
    "\n",
    "print(\"Average Age:\",averageAge)\n",
    "\n",
    "# close the file\n",
    "myFile.close()\n",
    "\n",
    "### END CODE"
   ]
  },
  {
   "cell_type": "markdown",
   "metadata": {},
   "source": [
    "#### Exercise 5 - Appending to a file\n",
    "\n",
    "Write a python program to append information provided by users to an existing file. \n",
    "\n",
    "You will need to \n",
    "1.  ask the user to enter their name, age, gender and profession using the **raw_input** method (for Python 3 users, you will use the **input** method).\n",
    "2.  open the file you just created in the above exercies in append mode and write this information to the file.\n",
    "\n",
    "Remember to make sure that the information you append is entered in the same format where each field is separated by commas.\n",
    "\n"
   ]
  },
  {
   "cell_type": "code",
   "execution_count": 16,
   "metadata": {},
   "outputs": [
    {
     "name": "stdout",
     "output_type": "stream",
     "text": [
      "Please enter your name:Harry\n",
      "Please enter your age:23\n",
      "Please enter your gender:M\n",
      "Please enter your profession:Wizard\n"
     ]
    }
   ],
   "source": [
    "### YOUR CODE GOES BELOW\n",
    "\n",
    "# open file in append mode\n",
    "myFile = open(\"userInfo.txt\",\"a\")\n",
    "\n",
    "# get user input\n",
    "name = input(\"Please enter your name:\")\n",
    "age = input(\"Please enter your age:\")\n",
    "gender = input(\"Please enter your gender:\")\n",
    "profession = input(\"Please enter your profession:\")\n",
    "\n",
    "outString = ','.join([name,age,gender,profession])\n",
    "myFile.write(outString)\n",
    "\n",
    "myFile.close()\n",
    "\n",
    "### END CODE"
   ]
  },
  {
   "cell_type": "code",
   "execution_count": 17,
   "metadata": {},
   "outputs": [
    {
     "name": "stdout",
     "output_type": "stream",
     "text": [
      "Name, Age, Gender, Profession\r\n",
      "Harry, 23, Male, Software Engineer\r\n",
      "Sam, 25, Male, Lawyer\r\n",
      "Lisa, 29, Female, Computer Scientist\r\n",
      "Mary, 22, Female, Doctor\r\n",
      "Harry,23,M,Wizard"
     ]
    }
   ],
   "source": [
    "# display result\n",
    "!cat userInfo.txt"
   ]
  },
  {
   "cell_type": "markdown",
   "metadata": {},
   "source": [
    "## OPTIONAL EXERCISES\n",
    "\n",
    "Below is a set of optional exercises. These will not be graded but the solutions will be posted. I would strongly encourage you to try these out if you are done with the mandatory homework exercises to improve your understanding of python."
   ]
  },
  {
   "cell_type": "markdown",
   "metadata": {},
   "source": [
    "#### NOTE \n",
    "\n",
    "For this program you will need to download the full text of Alice in Wonderland. This is available at this link http://www.gutenberg.org/files/11/11-0.txt\n",
    "\n",
    "For MAC users, you can download this directly from Jupyter by executing the below cell. Windows users might need to click on the link and download the file and save it to your computer. "
   ]
  },
  {
   "cell_type": "code",
   "execution_count": 18,
   "metadata": {},
   "outputs": [
    {
     "name": "stdout",
     "output_type": "stream",
     "text": [
      "  % Total    % Received % Xferd  Average Speed   Time    Time     Time  Current\n",
      "                                 Dload  Upload   Total   Spent    Left  Speed\n",
      "100  169k  100  169k    0     0   211k      0 --:--:-- --:--:-- --:--:--  211k\n"
     ]
    }
   ],
   "source": [
    "# download alice text\n",
    "!curl 'http://www.gutenberg.org/files/11/11-0.txt' -o aliceText.txt"
   ]
  },
  {
   "cell_type": "markdown",
   "metadata": {},
   "source": [
    "#### Exercise 6\n",
    "\n",
    "Write a program to read the file aliceText.txt and count the number of times that the word \"house\" occurs in the text."
   ]
  },
  {
   "cell_type": "code",
   "execution_count": 19,
   "metadata": {},
   "outputs": [
    {
     "name": "stdout",
     "output_type": "stream",
     "text": [
      "Number of occurrences of house are: 8\n"
     ]
    }
   ],
   "source": [
    "### YOUR CODE GOES BELOW\n",
    "\n",
    "# open the file\n",
    "aliceFile = open(\"aliceText.txt\")\n",
    "\n",
    "# iterate through each line in the file looking for the token \"house\"\n",
    "count = 0\n",
    "\n",
    "for line in aliceFile:\n",
    "    \n",
    "    words = line.strip().split() # strip the newline and split into words\n",
    "    \n",
    "    for word in words:\n",
    "        if word.lower() == \"house\":\n",
    "            count += 1\n",
    "            \n",
    "# display the result\n",
    "print(\"Number of occurrences of house are:\", count)\n",
    "    \n",
    "    \n",
    "\n",
    "aliceFile.close()\n",
    "\n",
    "### END CODE"
   ]
  },
  {
   "cell_type": "markdown",
   "metadata": {},
   "source": [
    "#### Exercise 7\n",
    "\n",
    "Write a python program to read the file aliceText.txt and find \n",
    "\n",
    "* the number of characters in the file\n",
    "* the number of words in the file\n",
    "* the number of lines in the file\n",
    "\n",
    "Display the result"
   ]
  },
  {
   "cell_type": "code",
   "execution_count": 20,
   "metadata": {},
   "outputs": [
    {
     "name": "stdout",
     "output_type": "stream",
     "text": [
      "Character Count:163817,Word Count:29465,Line Count:3736\n"
     ]
    }
   ],
   "source": [
    "### YOUR CODE GOES BELOW\n",
    "\n",
    "aliceFile = open(\"aliceText.txt\")\n",
    "\n",
    "# iterate through each line in the file looking for the token \"house\"\n",
    "characterCount = 0\n",
    "wordCount = 0\n",
    "lineCount = 0\n",
    "\n",
    "for line in aliceFile:\n",
    "    \n",
    "    # increment the line count for each line\n",
    "    lineCount += 1 \n",
    "    \n",
    "    # increment the character count for each character in the line\n",
    "    characterCount += len(line)\n",
    "    \n",
    "    words = line.strip().split() # strip the newline and split into words\n",
    "    \n",
    "    for word in words:\n",
    "        \n",
    "        # increment the word count for each word\n",
    "        wordCount += 1\n",
    "    \n",
    "            \n",
    "# display the result\n",
    "print(\"Character Count:%s,Word Count:%s,Line Count:%s\" % (characterCount,wordCount,lineCount))\n",
    "    \n",
    "aliceFile.close()\n",
    "\n",
    "### END CODE"
   ]
  },
  {
   "cell_type": "code",
   "execution_count": 21,
   "metadata": {},
   "outputs": [
    {
     "name": "stdout",
     "output_type": "stream",
     "text": [
      "    3736   29465  173595 aliceText.txt\r\n"
     ]
    }
   ],
   "source": [
    "# verify result using the wc command\n",
    "!wc aliceText.txt"
   ]
  },
  {
   "cell_type": "markdown",
   "metadata": {},
   "source": [
    "#### Exercise 8\n",
    "\n",
    "Write a Python program to read the file aliceText.txt and find the top 10 most frequent words in the file. Display the result\n",
    "\n",
    "Below are recommended steps for this program\n",
    "\n",
    "* Read the contents of the file\n",
    "* Initialize a dictionary to maintain the counts of each word\n",
    "* Loop through each word in the file\n",
    "    - If the word is new, then add to dictionary and initialize count to 1 for this word\n",
    "    - If the word is already in the dictionary, then increment the count of that word by 1\n",
    "* Use the **sorted** method to sort all values in descending order  - See the **example** code at the end of this assignment for an example on sorting a dictionary in reverse order by value"
   ]
  },
  {
   "cell_type": "code",
   "execution_count": 23,
   "metadata": {},
   "outputs": [
    {
     "name": "stdout",
     "output_type": "stream",
     "text": [
      "the 1664\n",
      "and 780\n",
      "to 773\n",
      "a 662\n",
      "of 596\n",
      "she 484\n",
      "said 416\n",
      "in 401\n",
      "it 356\n",
      "was 329\n"
     ]
    }
   ],
   "source": [
    "### YOUR CODE GOES BELOW\n",
    "\n",
    "aliceFile = open(\"aliceText.txt\")\n",
    "\n",
    "# iterate through each line in the file looking for the token \"house\"\n",
    "wordCountDict = {}\n",
    "\n",
    "# read each word and update the corresponding count in a dictionary \n",
    "for line in aliceFile:\n",
    "    \n",
    "    words = line.strip().split() # strip the newline and split into words\n",
    "    \n",
    "    for word in words:\n",
    "        \n",
    "        # increment the word count for each word\n",
    "        if wordCountDict.get(word) == None:\n",
    "            wordCountDict[word] = 1\n",
    "        else:\n",
    "            wordCountDict[word] += 1\n",
    "    \n",
    "# sort the dictionary and display the most frequent words\n",
    "sortedList = sorted(wordCountDict, key=wordCountDict.get, reverse=True)\n",
    "   \n",
    "for word in sortedList[:10]:\n",
    "    print(word,wordCountDict[word])\n",
    "\n",
    "aliceFile.close()\n",
    "\n",
    "### END CODE"
   ]
  },
  {
   "cell_type": "markdown",
   "metadata": {},
   "source": [
    "#### Example code for sorting a dictionary by value in reverse order"
   ]
  },
  {
   "cell_type": "code",
   "execution_count": 24,
   "metadata": {},
   "outputs": [
    {
     "name": "stdout",
     "output_type": "stream",
     "text": [
      "eight 8\n",
      "seven 7\n",
      "five 5\n",
      "four 4\n",
      "two 2\n",
      "one 1\n"
     ]
    }
   ],
   "source": [
    "myDict = {'seven': 7, 'four': 4, 'one': 1, 'two': 2, 'five': 5, 'eight': 8} \n",
    "sortedDict = sorted(myDict, key=myDict.get, reverse=True)\n",
    "\n",
    "for key in sortedDict:\n",
    "    print(key,myDict[key])"
   ]
  },
  {
   "cell_type": "code",
   "execution_count": null,
   "metadata": {
    "collapsed": true
   },
   "outputs": [],
   "source": []
  }
 ],
 "metadata": {
  "kernelspec": {
   "display_name": "Python 3",
   "language": "python",
   "name": "python3"
  },
  "language_info": {
   "codemirror_mode": {
    "name": "ipython",
    "version": 3
   },
   "file_extension": ".py",
   "mimetype": "text/x-python",
   "name": "python",
   "nbconvert_exporter": "python",
   "pygments_lexer": "ipython3",
   "version": "3.6.5"
  }
 },
 "nbformat": 4,
 "nbformat_minor": 2
}
